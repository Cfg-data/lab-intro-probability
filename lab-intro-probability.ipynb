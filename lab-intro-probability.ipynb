{
 "cells": [
  {
   "cell_type": "markdown",
   "metadata": {},
   "source": [
    "# Lab | Intro to Probability"
   ]
  },
  {
   "cell_type": "markdown",
   "metadata": {},
   "source": [
    "**Objective**\n",
    "\n",
    "Welcome to this Intro to Probability lab, where we explore decision-making scenarios through the lens of probability and strategic analysis. In the business world, making informed decisions is crucial, especially when faced with uncertainties. This lab focuses on scenarios where probabilistic outcomes play a significant role in shaping strategies and outcomes. Students will engage in exercises that require assessing and choosing optimal paths based on data-driven insights. The goal is to enhance your skills by applying probability concepts to solve real-world problems."
   ]
  },
  {
   "cell_type": "markdown",
   "metadata": {},
   "source": [
    "**Challenge 1**"
   ]
  },
  {
   "cell_type": "markdown",
   "metadata": {},
   "source": [
    "#### Ironhack Airlines \n",
    "\n",
    "Often Airlines sell more tickets than they have seats available, this is called overbooking. Consider the following:\n",
    "- A plane has 450 seats. \n",
    "- Based on historical data we conclude that each individual passenger has a 3% chance of missing it's flight. \n",
    "\n",
    "If the Ironhack Airlines routinely sells 460 tickets, what is the chance that they have a seats for all passenger?"
   ]
  },
  {
   "cell_type": "code",
   "execution_count": 5,
   "metadata": {},
   "outputs": [
    {
     "name": "stdout",
     "output_type": "stream",
     "text": [
      "The probability that there are enough seats for all passengers is approximately: 0.8505\n"
     ]
    }
   ],
   "source": [
    "import scipy.stats as stats\n",
    "\n",
    "# Given values\n",
    "n = 460  # number of tickets sold\n",
    "p = 0.97  # probability a passenger shows up\n",
    "seats = 450  # total number of seats available\n",
    "\n",
    "# Mean and standard deviation of the binomial distribution\n",
    "mu = n * p\n",
    "sigma = (n * p * (1 - p)) ** 0.5\n",
    "\n",
    "# Z-score for 450 passengers\n",
    "z_score = (seats - mu) / sigma\n",
    "\n",
    "# Calculate the cumulative probability P(X <= 450)\n",
    "probability = stats.norm.cdf(z_score)\n",
    "\n",
    "# Output the result\n",
    "print(f\"The probability that there are enough seats for all passengers is approximately: {probability:.4f}\")"
   ]
  },
  {
   "cell_type": "markdown",
   "metadata": {},
   "source": [
    "**Challenge 2**"
   ]
  },
  {
   "cell_type": "markdown",
   "metadata": {},
   "source": [
    "#### Ironhack Call Center "
   ]
  },
  {
   "cell_type": "markdown",
   "metadata": {},
   "source": [
    "Suppose a customer service representative at a call center is handling customer complaints. Consider the following:\n",
    "- The probability of successfully resolving a customer complaint on the first attempt is 0.3. \n",
    "\n",
    "\n",
    "What is the probability that the representative needs to make at least three attempts before successfully resolving a customer complaint?"
   ]
  },
  {
   "cell_type": "code",
   "execution_count": 10,
   "metadata": {},
   "outputs": [
    {
     "name": "stdout",
     "output_type": "stream",
     "text": [
      "The probability that the representative needs at least 3 attempts is: 0.4900\n"
     ]
    }
   ],
   "source": [
    "# Given probability of success\n",
    "p = 0.3\n",
    "# Probability of failure on a single attempt\n",
    "failure_prob = 1 - p\n",
    "\n",
    "# Probability of failing on both the first and second attempts (at least 3 attempts needed)\n",
    "probability_at_least_3_attempts = failure_prob ** 2\n",
    "\n",
    "# Output the result\n",
    "print(f\"The probability that the representative needs at least 3 attempts is: {probability_at_least_3_attempts:.4f}\")"
   ]
  },
  {
   "cell_type": "markdown",
   "metadata": {},
   "source": [
    "**Challenge 3**"
   ]
  },
  {
   "cell_type": "markdown",
   "metadata": {},
   "source": [
    "#### Ironhack Website"
   ]
  },
  {
   "cell_type": "markdown",
   "metadata": {},
   "source": [
    "Consider a scenario related to Ironhack website traffic. Where:\n",
    "- our website takes on average 500 visits per hour.\n",
    "- the website's server is designed to handle up to 550 vists per hour.\n",
    "\n",
    "\n",
    "What is the probability of the website server being overwhelmed?"
   ]
  },
  {
   "cell_type": "code",
   "execution_count": 14,
   "metadata": {},
   "outputs": [
    {
     "name": "stdout",
     "output_type": "stream",
     "text": [
      "The probability that the server will be overwhelmed is: 0.0129\n"
     ]
    }
   ],
   "source": [
    "import scipy.stats as stats\n",
    "\n",
    "# Given average number of visits per hour (lambda)\n",
    "lambda_visits = 500\n",
    "# Website's server capacity\n",
    "server_capacity = 550\n",
    "\n",
    "# Calculate the probability of more than 550 visits (overwhelmed server)\n",
    "probability_overwhelmed = 1 - stats.poisson.cdf(server_capacity, lambda_visits)\n",
    "\n",
    "# Output the result\n",
    "print(f\"The probability that the server will be overwhelmed is: {probability_overwhelmed:.4f}\")"
   ]
  },
  {
   "cell_type": "markdown",
   "metadata": {},
   "source": [
    "What is the probability of being overwhelmed at some point during a day? (consider 24hours)"
   ]
  },
  {
   "cell_type": "code",
   "execution_count": 17,
   "metadata": {},
   "outputs": [
    {
     "name": "stdout",
     "output_type": "stream",
     "text": [
      "The probability that the server will be overwhelmed at some point during the day is: 0.2677\n"
     ]
    }
   ],
   "source": [
    "import scipy.stats as stats\n",
    "\n",
    "# Given average number of visits per hour (lambda)\n",
    "lambda_visits_per_hour = 500\n",
    "# Website's server capacity\n",
    "server_capacity = 550\n",
    "# Number of hours in a day\n",
    "hours_in_day = 24\n",
    "\n",
    "# Probability that a single hour has 550 or fewer visits\n",
    "prob_no_overload_single_hour = stats.poisson.cdf(server_capacity, lambda_visits_per_hour)\n",
    "\n",
    "# Probability that no hour in 24 hours exceeds the server capacity\n",
    "prob_no_overload_all_hours = prob_no_overload_single_hour ** hours_in_day\n",
    "\n",
    "# Probability that at least one hour exceeds the server capacity (i.e., the server is overwhelmed at some point)\n",
    "prob_server_overwhelmed_at_some_point = 1 - prob_no_overload_all_hours\n",
    "\n",
    "# Output the result\n",
    "print(f\"The probability that the server will be overwhelmed at some point during the day is: {prob_server_overwhelmed_at_some_point:.4f}\")"
   ]
  },
  {
   "cell_type": "markdown",
   "metadata": {},
   "source": [
    "**Challenge 4**"
   ]
  },
  {
   "cell_type": "markdown",
   "metadata": {},
   "source": [
    "#### Ironhack Helpdesk"
   ]
  },
  {
   "cell_type": "markdown",
   "metadata": {},
   "source": [
    "Consider a scenario related to the time between arrivals of customers at a service desk.\n",
    "\n",
    "On average, a customers arrives every 10minutes.\n",
    "\n",
    "What is the probability that the next customer will arrive within the next 5 minutes?"
   ]
  },
  {
   "cell_type": "code",
   "execution_count": 21,
   "metadata": {},
   "outputs": [
    {
     "name": "stdout",
     "output_type": "stream",
     "text": [
      "The probability that the next customer will arrive within the next 5 minutes is: 0.3935\n"
     ]
    }
   ],
   "source": [
    "import scipy.stats as stats\n",
    "\n",
    "# Given average time between arrivals (in minutes)\n",
    "average_time_between_arrivals = 10  # customers per 10 minutes\n",
    "\n",
    "# Rate parameter (lambda)\n",
    "lambda_rate = 1 / average_time_between_arrivals\n",
    "\n",
    "# Time window (in minutes) to calculate the probability for\n",
    "time_window = 5\n",
    "\n",
    "# Calculate the probability that the next customer arrives within 5 minutes\n",
    "probability = stats.expon.cdf(time_window, scale=1/lambda_rate)\n",
    "\n",
    "# Output the result\n",
    "print(f\"The probability that the next customer will arrive within the next 5 minutes is: {probability:.4f}\")"
   ]
  },
  {
   "cell_type": "markdown",
   "metadata": {},
   "source": [
    "If there is no customer for 15minutes, employees can that a 5minutes break.\n",
    "\n",
    "What is the probability an employee taking a break?"
   ]
  },
  {
   "cell_type": "code",
   "execution_count": 23,
   "metadata": {},
   "outputs": [
    {
     "name": "stdout",
     "output_type": "stream",
     "text": [
      "The probability that no customer will arrive for 15 minutes (employee can take a break) is: 0.2231\n"
     ]
    }
   ],
   "source": [
    "import scipy.stats as stats\n",
    "\n",
    "# Given average time between arrivals (in minutes)\n",
    "average_time_between_arrivals = 10  # customers per 10 minutes\n",
    "\n",
    "# Rate parameter (lambda)\n",
    "lambda_rate = 1 / average_time_between_arrivals\n",
    "\n",
    "# Time threshold (in minutes) for no customers to arrive\n",
    "time_threshold = 15\n",
    "\n",
    "# Calculate the probability that no customer arrives for 15 minutes\n",
    "probability_no_customer_in_15_min = stats.expon.sf(time_threshold, scale=1/lambda_rate)\n",
    "\n",
    "# Output the result\n",
    "print(f\"The probability that no customer will arrive for 15 minutes (employee can take a break) is: {probability_no_customer_in_15_min:.4f}\")"
   ]
  },
  {
   "cell_type": "markdown",
   "metadata": {},
   "source": [
    "**Challenge 5**"
   ]
  },
  {
   "cell_type": "markdown",
   "metadata": {},
   "source": [
    "The weights of a certain species of birds follow a normal distribution with a mean weight of 150 grams and a standard deviation of 10 grams. \n",
    "\n",
    "- If we randomly select a bird, what is the probability that its weight is between 140 and 160 grams?"
   ]
  },
  {
   "cell_type": "code",
   "execution_count": 27,
   "metadata": {},
   "outputs": [
    {
     "name": "stdout",
     "output_type": "stream",
     "text": [
      "The probability that the bird's weight is between 140 and 160 grams is: 0.6827\n"
     ]
    }
   ],
   "source": [
    "import scipy.stats as stats\n",
    "\n",
    "# Given mean and standard deviation\n",
    "mu = 150  # mean weight in grams\n",
    "sigma = 10  # standard deviation in grams\n",
    "\n",
    "# Weights for the range we are interested in\n",
    "lower_bound = 140\n",
    "upper_bound = 160\n",
    "\n",
    "# Calculate the Z-scores for the lower and upper bounds\n",
    "z_lower = (lower_bound - mu) / sigma\n",
    "z_upper = (upper_bound - mu) / sigma\n",
    "\n",
    "# Calculate the cumulative probabilities for these Z-scores\n",
    "probability_lower = stats.norm.cdf(z_lower)\n",
    "probability_upper = stats.norm.cdf(z_upper)\n",
    "\n",
    "# The probability that the weight is between 140 and 160 grams\n",
    "probability = probability_upper - probability_lower\n",
    "\n",
    "# Output the result\n",
    "print(f\"The probability that the bird's weight is between 140 and 160 grams is: {probability:.4f}\")"
   ]
  },
  {
   "cell_type": "markdown",
   "metadata": {},
   "source": [
    "**Challenge 6**"
   ]
  },
  {
   "cell_type": "markdown",
   "metadata": {},
   "source": [
    "If the lifetime (in hours) of a certain electronic component follows an exponential distribution with a mean lifetime of 50 hours, what is the probability that the component fails within the first 30 hours?"
   ]
  },
  {
   "cell_type": "code",
   "execution_count": 30,
   "metadata": {},
   "outputs": [
    {
     "name": "stdout",
     "output_type": "stream",
     "text": [
      "The probability that the component fails within the first 30 hours is: 0.4512\n"
     ]
    }
   ],
   "source": [
    "import numpy as np\n",
    "\n",
    "# Given mean lifetime (in hours)\n",
    "mean_lifetime = 50  # hours\n",
    "\n",
    "# Rate parameter (lambda)\n",
    "lambda_rate = 1 / mean_lifetime\n",
    "\n",
    "# Time threshold (in hours) for failure\n",
    "time_threshold = 30  # hours\n",
    "\n",
    "# Calculate the probability that the component fails within 30 hours\n",
    "probability_failure = 1 - np.exp(-lambda_rate * time_threshold)\n",
    "\n",
    "# Output the result\n",
    "print(f\"The probability that the component fails within the first 30 hours is: {probability_failure:.4f}\")"
   ]
  },
  {
   "cell_type": "code",
   "execution_count": null,
   "metadata": {},
   "outputs": [],
   "source": []
  },
  {
   "cell_type": "code",
   "execution_count": null,
   "metadata": {},
   "outputs": [],
   "source": []
  }
 ],
 "metadata": {
  "kernelspec": {
   "display_name": "Python 3 (ipykernel)",
   "language": "python",
   "name": "python3"
  },
  "language_info": {
   "codemirror_mode": {
    "name": "ipython",
    "version": 3
   },
   "file_extension": ".py",
   "mimetype": "text/x-python",
   "name": "python",
   "nbconvert_exporter": "python",
   "pygments_lexer": "ipython3",
   "version": "3.12.4"
  }
 },
 "nbformat": 4,
 "nbformat_minor": 4
}
